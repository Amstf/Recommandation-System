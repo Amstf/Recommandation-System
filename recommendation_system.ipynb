{
  "cells": [
    {
      "cell_type": "code",
      "execution_count": null,
      "metadata": {
        "id": "Zg37i8V0lqUO"
      },
      "outputs": [],
      "source": [
        "# importing libraries\n",
        "# !pip install turicreate\n",
        "import pandas as pd\n",
        "import numpy as np\n",
        "from sklearn.metrics.pairwise import pairwise_distances \n",
        "# import turicreate\n",
        "import os"
      ]
    },
    {
      "cell_type": "code",
      "execution_count": null,
      "metadata": {
        "id": "EYWoxX3Tv3Hp",
        "colab": {
          "base_uri": "https://localhost:8080/"
        },
        "outputId": "b557f16c-4d32-4c05-a1d4-f927878b8250"
      },
      "outputs": [
        {
          "output_type": "stream",
          "name": "stdout",
          "text": [
            "Archive:  /content/ml-100k.zip\n",
            "   creating: ml-100k/\n",
            "  inflating: ml-100k/allbut.pl       \n",
            "  inflating: ml-100k/mku.sh          \n",
            "  inflating: ml-100k/README          \n",
            "  inflating: ml-100k/u.data          \n",
            "  inflating: ml-100k/u.genre         \n",
            "  inflating: ml-100k/u.info          \n",
            "  inflating: ml-100k/u.item          \n",
            "  inflating: ml-100k/u.occupation    \n",
            "  inflating: ml-100k/u.user          \n",
            "  inflating: ml-100k/u1.base         \n",
            "  inflating: ml-100k/u1.test         \n",
            "  inflating: ml-100k/u2.base         \n",
            "  inflating: ml-100k/u2.test         \n",
            "  inflating: ml-100k/u3.base         \n",
            "  inflating: ml-100k/u3.test         \n",
            "  inflating: ml-100k/u4.base         \n",
            "  inflating: ml-100k/u4.test         \n",
            "  inflating: ml-100k/u5.base         \n",
            "  inflating: ml-100k/u5.test         \n",
            "  inflating: ml-100k/ua.base         \n",
            "  inflating: ml-100k/ua.test         \n",
            "  inflating: ml-100k/ub.base         \n",
            "  inflating: ml-100k/ub.test         \n"
          ]
        }
      ],
      "source": [
        "!unzip \"/content/ml-100k.zip\""
      ]
    },
    {
      "cell_type": "code",
      "execution_count": null,
      "metadata": {
        "colab": {
          "base_uri": "https://localhost:8080/"
        },
        "id": "3zMsULQbhCWC",
        "outputId": "ba710be3-112a-48e4-9d9a-750eeb8e4a9f"
      },
      "outputs": [
        {
          "output_type": "stream",
          "name": "stdout",
          "text": [
            "\n",
            "User Data :\n",
            "shape :  (943, 5)\n",
            "   user_id  age sex  occupation zip_code\n",
            "0        1   24   M  technician    85711\n",
            "1        2   53   F       other    94043\n",
            "2        3   23   M      writer    32067\n",
            "3        4   24   M  technician    43537\n",
            "4        5   33   F       other    15213\n",
            "\n",
            "Ratings Data :\n",
            "shape :  (100000, 4)\n",
            "   user_id  movie_id  rating  unix_timestamp\n",
            "0      196       242       3       881250949\n",
            "1      186       302       3       891717742\n",
            "2       22       377       1       878887116\n",
            "3      244        51       2       880606923\n",
            "4      166       346       1       886397596\n",
            "\n",
            "Item Data :\n",
            "shape :  (1682, 24)\n",
            "   movie id        movie title release date  ...  Thriller War  Western\n",
            "0         1   Toy Story (1995)  01-Jan-1995  ...         0   0        0\n",
            "1         2   GoldenEye (1995)  01-Jan-1995  ...         1   0        0\n",
            "2         3  Four Rooms (1995)  01-Jan-1995  ...         1   0        0\n",
            "3         4  Get Shorty (1995)  01-Jan-1995  ...         0   0        0\n",
            "4         5     Copycat (1995)  01-Jan-1995  ...         1   0        0\n",
            "\n",
            "[5 rows x 24 columns]\n"
          ]
        }
      ],
      "source": [
        "\n",
        "# pass in column names for each CSV as the column name is not given in the file and read them using pandas.\n",
        "# You can check the column names from the readme file\n",
        "\n",
        "# reading users file:\n",
        "u_cols = ['user_id', 'age', 'sex', 'occupation', 'zip_code']\n",
        "users = pd.read_csv('ml-100k/u.user', sep='|', names=u_cols,encoding='latin-1')\n",
        "\n",
        "# reading ratings file:\n",
        "r_cols = ['user_id', 'movie_id', 'rating', 'unix_timestamp']\n",
        "ratings = pd.read_csv('ml-100k/u.data', sep='\\t', names=r_cols,encoding='latin-1')\n",
        "\n",
        "# reading items file:\n",
        "i_cols = ['movie id', 'movie title' ,'release date','video release date', 'IMDb URL', 'unknown', 'Action', 'Adventure',\n",
        "'Animation', 'Children\\'s', 'Comedy', 'Crime', 'Documentary', 'Drama', 'Fantasy',\n",
        "'Film-Noir', 'Horror', 'Musical', 'Mystery', 'Romance', 'Sci-Fi', 'Thriller', 'War', 'Western']\n",
        "items = pd.read_csv('ml-100k/u.item', sep='|', names=i_cols,encoding='latin-1')\n",
        "\n",
        "# After loading the dataset, we should look at the content of each file (users, ratings, items).\n",
        "\n",
        "# Looking at the user file\n",
        "print(\"\\nUser Data :\")\n",
        "print(\"shape : \", users.shape)\n",
        "print(users.head())\n",
        "\n",
        "# We have 943 users in the dataset and each user has 5 features, i.e. user_ID, age, sex, occupation and zip_code. Now let’s look at the ratings file.\n",
        "\n",
        "# Ratings Data\n",
        "print(\"\\nRatings Data :\")\n",
        "print(\"shape : \", ratings.shape)\n",
        "print(ratings.head())\n",
        "\n",
        "# We have 100k ratings for different user and movie combinations. Now finally examine the items file.\n",
        "\n",
        "# Item Data\n",
        "print(\"\\nItem Data :\")\n",
        "print(\"shape : \", items.shape)\n",
        "print(items.head())"
      ]
    },
    {
      "cell_type": "code",
      "execution_count": null,
      "metadata": {
        "colab": {
          "base_uri": "https://localhost:8080/"
        },
        "id": "_MDLJboQk0F7",
        "outputId": "e2573d40-c015-47ab-a206-1a18970efa19"
      },
      "outputs": [
        {
          "output_type": "execute_result",
          "data": {
            "text/plain": [
              "((90570, 4), (9430, 4))"
            ]
          },
          "metadata": {},
          "execution_count": 5
        }
      ],
      "source": [
        "r_cols = ['user_id', 'movie_id', 'rating', 'unix_timestamp']\n",
        "ratings_train = pd.read_csv('ml-100k/ua.base', sep='\\t', names=r_cols, encoding='latin-1')\n",
        "ratings_test = pd.read_csv('ml-100k/ua.test', sep='\\t', names=r_cols, encoding='latin-1')\n",
        "ratings_train.shape, ratings_test.shape"
      ]
    },
    {
      "cell_type": "code",
      "execution_count": null,
      "metadata": {
        "id": "cA-Ra2vkj_OM"
      },
      "outputs": [],
      "source": [
        "#We will recommend movies based on user-user similarity and item-item similarity. For that, first we need to calculate the number of unique users and movies.\n",
        "n_users = ratings.user_id.unique().shape[0]\n",
        "n_items = ratings.movie_id.unique().shape[0]\n",
        "#Now, we will create a user-item matrix which can be used to calculate the similarity between users and items.\n",
        "data_matrix = np.zeros((n_users, n_items))\n",
        "for line in ratings.itertuples():\n",
        "    data_matrix[line[1]-1, line[2]-1] = line[3]\n",
        "#Now, we will calculate the similarity. We can use the pairwise_distance function \n",
        "user_similarity = pairwise_distances(data_matrix, metric='cosine')\n",
        "item_similarity = pairwise_distances(data_matrix.T, metric='cosine')\n",
        "#This gives us the item-item and user-user similarity in an array form. \n"
      ]
    },
    {
      "cell_type": "code",
      "source": [
        "def predict(ratings, similarity, type='user'):\n",
        "    if type == 'user':\n",
        "        mean_user_rating = ratings.mean(axis=1)\n",
        "        #We use np.newaxis so that mean_user_rating has same format as ratings\n",
        "        ratings_diff = (ratings - mean_user_rating[:, np.newaxis])\n",
        "        pred = mean_user_rating[:, np.newaxis] + similarity.dot(ratings_diff) / np.array([np.abs(similarity).sum(axis=1)]).T\n",
        "    elif type == 'item':\n",
        "        pred = ratings.dot(similarity) / np.array([np.abs(similarity).sum(axis=1)])\n",
        "    return pred"
      ],
      "metadata": {
        "id": "5Pvm4km200Ym"
      },
      "execution_count": null,
      "outputs": []
    },
    {
      "cell_type": "code",
      "source": [
        "user_prediction = predict(data_matrix, user_similarity, type='user')\n",
        "item_prediction = predict(data_matrix, item_similarity, type='item')"
      ],
      "metadata": {
        "id": "6y4JG2ar1im5"
      },
      "execution_count": null,
      "outputs": []
    },
    {
      "cell_type": "code",
      "execution_count": null,
      "metadata": {
        "id": "VdQeK3EunIKn"
      },
      "outputs": [],
      "source": [
        "\n",
        "train_data = turicreate.SFrame(ratings_train)\n",
        "test_data = turicreate.SFrame(ratings_test)"
      ]
    },
    {
      "cell_type": "code",
      "execution_count": null,
      "metadata": {
        "colab": {
          "base_uri": "https://localhost:8080/",
          "height": 121
        },
        "id": "CPy7NpaEomkN",
        "outputId": "a494bd47-8af2-41d4-a4a7-df412f7d1dac"
      },
      "outputs": [
        {
          "data": {
            "text/html": [
              "<pre>Warning: Ignoring columns unix_timestamp;</pre>"
            ],
            "text/plain": [
              "Warning: Ignoring columns unix_timestamp;"
            ]
          },
          "metadata": {},
          "output_type": "display_data"
        },
        {
          "data": {
            "text/html": [
              "<pre>    To use these columns in scoring predictions, use a model that allows the use of additional features.</pre>"
            ],
            "text/plain": [
              "    To use these columns in scoring predictions, use a model that allows the use of additional features."
            ]
          },
          "metadata": {},
          "output_type": "display_data"
        },
        {
          "data": {
            "text/html": [
              "<pre>Preparing data set.</pre>"
            ],
            "text/plain": [
              "Preparing data set."
            ]
          },
          "metadata": {},
          "output_type": "display_data"
        },
        {
          "data": {
            "text/html": [
              "<pre>    Data has 90570 observations with 943 users and 1680 items.</pre>"
            ],
            "text/plain": [
              "    Data has 90570 observations with 943 users and 1680 items."
            ]
          },
          "metadata": {},
          "output_type": "display_data"
        },
        {
          "data": {
            "text/html": [
              "<pre>    Data prepared in: 0.092348s</pre>"
            ],
            "text/plain": [
              "    Data prepared in: 0.092348s"
            ]
          },
          "metadata": {},
          "output_type": "display_data"
        },
        {
          "data": {
            "text/html": [
              "<pre>90570 observations to process; with 1680 unique items.</pre>"
            ],
            "text/plain": [
              "90570 observations to process; with 1680 unique items."
            ]
          },
          "metadata": {},
          "output_type": "display_data"
        }
      ],
      "source": [
        "#First we’ll build a model which will recommend movies based on the most popular choices, i.e., a model where all the users receive the same recommendation(s). We will use the turicreate recommender function popularity_recommender for this.\n",
        "popularity_model = turicreate.popularity_recommender.create(train_data, user_id='user_id', item_id='movie_id', target='rating')"
      ]
    },
    {
      "cell_type": "code",
      "execution_count": null,
      "metadata": {
        "colab": {
          "base_uri": "https://localhost:8080/"
        },
        "id": "JTPjJI3BnWer",
        "outputId": "e4601ee8-5763-48a6-f400-93217342416c"
      },
      "outputs": [
        {
          "name": "stdout",
          "output_type": "stream",
          "text": [
            "+---------+----------+--------------------+------+\n",
            "| user_id | movie_id |       score        | rank |\n",
            "+---------+----------+--------------------+------+\n",
            "|    1    |   1500   |        5.0         |  1   |\n",
            "|    1    |   1467   |        5.0         |  2   |\n",
            "|    1    |   1122   |        5.0         |  3   |\n",
            "|    1    |   1656   |        5.0         |  4   |\n",
            "|    1    |   1599   |        5.0         |  5   |\n",
            "|    1    |   1201   |        5.0         |  6   |\n",
            "|    1    |   1536   |        5.0         |  7   |\n",
            "|    1    |   814    |        5.0         |  8   |\n",
            "|    1    |   1189   |        5.0         |  9   |\n",
            "|    1    |   1293   |        5.0         |  10  |\n",
            "|    1    |   1449   | 4.714285714285714  |  11  |\n",
            "|    1    |   1642   |        4.5         |  12  |\n",
            "|    1    |   1463   |        4.5         |  13  |\n",
            "|    1    |   1398   |        4.5         |  14  |\n",
            "|    1    |   1594   |        4.5         |  15  |\n",
            "|    1    |   408    | 4.480769230769231  |  16  |\n",
            "|    1    |   318    | 4.4758364312267656 |  17  |\n",
            "|    1    |   483    | 4.459821428571429  |  18  |\n",
            "|    1    |   603    | 4.374358974358974  |  19  |\n",
            "|    1    |   1524   | 4.333333333333333  |  20  |\n",
            "+---------+----------+--------------------+------+\n",
            "[20 rows x 4 columns]\n",
            "\n"
          ]
        }
      ],
      "source": [
        "#We will recommend the top 5 items for the first 5 users in our dataset.\n",
        "popularity_recomm = popularity_model.recommend(users=[1],k=20)\n",
        "popularity_recomm.print_rows(num_rows=25)"
      ]
    },
    {
      "cell_type": "code",
      "execution_count": null,
      "metadata": {
        "id": "JKV57YKLptY2"
      },
      "outputs": [],
      "source": [
        "#After building a popularity model, we will now build a collaborative filtering model\n",
        "# Let’s train the item similarity model and make top 5 recommendations for the first 5 users\n",
        "#Training the model\n",
        "item_sim_model = turicreate.item_similarity_recommender.create(train_data, user_id='user_id', item_id='movie_id', target='rating', similarity_type='cosine')"
      ]
    },
    {
      "cell_type": "code",
      "execution_count": null,
      "metadata": {
        "colab": {
          "base_uri": "https://localhost:8080/"
        },
        "id": "lG6jlsKjrQJJ",
        "outputId": "14c67f52-d0a1-451a-cffa-23a5dc486ade"
      },
      "outputs": [
        {
          "name": "stdout",
          "output_type": "stream",
          "text": [
            "+---------+----------+--------------------+------+\n",
            "| user_id | movie_id |       score        | rank |\n",
            "+---------+----------+--------------------+------+\n",
            "|    4    |    50    | 1.1311477082116264 |  1   |\n",
            "|    4    |   288    | 1.0487151145935059 |  2   |\n",
            "|    4    |   181    | 0.9505999386310577 |  3   |\n",
            "|    4    |   302    | 0.9139021464756557 |  4   |\n",
            "|    4    |   121    | 0.8993381602423531 |  5   |\n",
            "|    4    |   100    | 0.8955540614468711 |  6   |\n",
            "|    4    |    56    | 0.8828046492167881 |  7   |\n",
            "|    4    |   333    | 0.8780901687485831 |  8   |\n",
            "|    4    |   313    | 0.8764417426926749 |  9   |\n",
            "+---------+----------+--------------------+------+\n",
            "[9 rows x 4 columns]\n",
            "\n"
          ]
        }
      ],
      "source": [
        "#Making recommendations\n",
        "item_sim_recomm = item_sim_model.recommend(users=[4],k=9)\n",
        "item_sim_recomm.print_rows(num_rows=25)"
      ]
    },
    {
      "cell_type": "code",
      "execution_count": null,
      "metadata": {
        "id": "5m9YBBWAXbAU"
      },
      "outputs": [],
      "source": [
        "users=pd.read_csv('/content/users (1).csv')"
      ]
    },
    {
      "cell_type": "code",
      "execution_count": null,
      "metadata": {
        "id": "4MOJQNanXiUA"
      },
      "outputs": [],
      "source": [
        "for user in users['_id']:\n",
        "  Users.append(user)\n"
      ]
    },
    {
      "cell_type": "code",
      "execution_count": null,
      "metadata": {
        "id": "AlqOIdVNjPzz"
      },
      "outputs": [],
      "source": [
        "ratings_train.iloc[0:100, :] \n",
        "ratings_train = ratings_train[ratings_train.user_id<=20]\n",
        "ratings_train = ratings_train[ratings_train.movie_id<=100]\n",
        "j=1\n",
        "for i in data:\n",
        "  ratings_train['movie_id'].replace([j], i,inplace=True)\n",
        "  j+=1\n",
        "j=1\n",
        "for i in Users:\n",
        "  ratings_train['user_id'].replace([j], i,inplace=True)\n",
        "  j+=1\n",
        "ratings_train=ratings_train.rename(columns={'movie_id':'product_id'})"
      ]
    },
    {
      "cell_type": "code",
      "execution_count": null,
      "metadata": {
        "id": "wXwlV7RsX-eW"
      },
      "outputs": [],
      "source": [
        "ratings_train=ratings_train.rename(columns={'user_id':'user',\"producte_id\":\"product\"})"
      ]
    },
    {
      "cell_type": "code",
      "execution_count": null,
      "metadata": {
        "colab": {
          "background_save": true
        },
        "id": "rRrJh18LYR9Z",
        "outputId": "984afb20-7e9f-4749-a494-03f4149066de"
      },
      "outputs": [
        {
          "data": {
            "text/html": [
              "\n",
              "  <div id=\"df-7e6bc3d2-ae02-4c81-83c1-eb94f9faf429\">\n",
              "    <div class=\"colab-df-container\">\n",
              "      <div>\n",
              "<style scoped>\n",
              "    .dataframe tbody tr th:only-of-type {\n",
              "        vertical-align: middle;\n",
              "    }\n",
              "\n",
              "    .dataframe tbody tr th {\n",
              "        vertical-align: top;\n",
              "    }\n",
              "\n",
              "    .dataframe thead th {\n",
              "        text-align: right;\n",
              "    }\n",
              "</style>\n",
              "<table border=\"1\" class=\"dataframe\">\n",
              "  <thead>\n",
              "    <tr style=\"text-align: right;\">\n",
              "      <th></th>\n",
              "      <th>user</th>\n",
              "      <th>product_id</th>\n",
              "      <th>rating</th>\n",
              "      <th>unix_timestamp</th>\n",
              "    </tr>\n",
              "  </thead>\n",
              "  <tbody>\n",
              "    <tr>\n",
              "      <th>0</th>\n",
              "      <td>619fba11b41bb8a047a1caab</td>\n",
              "      <td>61ae0f4165c46dc923ff2271</td>\n",
              "      <td>5</td>\n",
              "      <td>874965758</td>\n",
              "    </tr>\n",
              "    <tr>\n",
              "      <th>1</th>\n",
              "      <td>619fba11b41bb8a047a1caab</td>\n",
              "      <td>61ae0f4165c46dc923ff2272</td>\n",
              "      <td>3</td>\n",
              "      <td>876893171</td>\n",
              "    </tr>\n",
              "    <tr>\n",
              "      <th>2</th>\n",
              "      <td>619fba11b41bb8a047a1caab</td>\n",
              "      <td>61ae0f4165c46dc923ff2273</td>\n",
              "      <td>4</td>\n",
              "      <td>878542960</td>\n",
              "    </tr>\n",
              "    <tr>\n",
              "      <th>3</th>\n",
              "      <td>619fba11b41bb8a047a1caab</td>\n",
              "      <td>61ae0f4165c46dc923ff2274</td>\n",
              "      <td>3</td>\n",
              "      <td>876893119</td>\n",
              "    </tr>\n",
              "    <tr>\n",
              "      <th>4</th>\n",
              "      <td>619fba11b41bb8a047a1caab</td>\n",
              "      <td>61ae0f4165c46dc923ff2275</td>\n",
              "      <td>3</td>\n",
              "      <td>889751712</td>\n",
              "    </tr>\n",
              "    <tr>\n",
              "      <th>...</th>\n",
              "      <td>...</td>\n",
              "      <td>...</td>\n",
              "      <td>...</td>\n",
              "      <td>...</td>\n",
              "    </tr>\n",
              "    <tr>\n",
              "      <th>2816</th>\n",
              "      <td>61bf8e09e04aa7bf98fd69e5</td>\n",
              "      <td>61ae0f4165c46dc923ff22c2</td>\n",
              "      <td>4</td>\n",
              "      <td>879669697</td>\n",
              "    </tr>\n",
              "    <tr>\n",
              "      <th>2817</th>\n",
              "      <td>61bf8e09e04aa7bf98fd69e5</td>\n",
              "      <td>61ae0f4165c46dc923ff22c7</td>\n",
              "      <td>5</td>\n",
              "      <td>879669746</td>\n",
              "    </tr>\n",
              "    <tr>\n",
              "      <th>2818</th>\n",
              "      <td>61bf8e09e04aa7bf98fd69e5</td>\n",
              "      <td>61ae0f4165c46dc923ff22ce</td>\n",
              "      <td>2</td>\n",
              "      <td>879669954</td>\n",
              "    </tr>\n",
              "    <tr>\n",
              "      <th>2819</th>\n",
              "      <td>61bf8e09e04aa7bf98fd69e5</td>\n",
              "      <td>61b624c134fe96ee02d85a53</td>\n",
              "      <td>3</td>\n",
              "      <td>879669181</td>\n",
              "    </tr>\n",
              "    <tr>\n",
              "      <th>2820</th>\n",
              "      <td>61bf8e09e04aa7bf98fd69e5</td>\n",
              "      <td>61b62b43c7771fb0340bfffe</td>\n",
              "      <td>3</td>\n",
              "      <td>879669547</td>\n",
              "    </tr>\n",
              "  </tbody>\n",
              "</table>\n",
              "<p>449 rows × 4 columns</p>\n",
              "</div>\n",
              "      <button class=\"colab-df-convert\" onclick=\"convertToInteractive('df-7e6bc3d2-ae02-4c81-83c1-eb94f9faf429')\"\n",
              "              title=\"Convert this dataframe to an interactive table.\"\n",
              "              style=\"display:none;\">\n",
              "        \n",
              "  <svg xmlns=\"http://www.w3.org/2000/svg\" height=\"24px\"viewBox=\"0 0 24 24\"\n",
              "       width=\"24px\">\n",
              "    <path d=\"M0 0h24v24H0V0z\" fill=\"none\"/>\n",
              "    <path d=\"M18.56 5.44l.94 2.06.94-2.06 2.06-.94-2.06-.94-.94-2.06-.94 2.06-2.06.94zm-11 1L8.5 8.5l.94-2.06 2.06-.94-2.06-.94L8.5 2.5l-.94 2.06-2.06.94zm10 10l.94 2.06.94-2.06 2.06-.94-2.06-.94-.94-2.06-.94 2.06-2.06.94z\"/><path d=\"M17.41 7.96l-1.37-1.37c-.4-.4-.92-.59-1.43-.59-.52 0-1.04.2-1.43.59L10.3 9.45l-7.72 7.72c-.78.78-.78 2.05 0 2.83L4 21.41c.39.39.9.59 1.41.59.51 0 1.02-.2 1.41-.59l7.78-7.78 2.81-2.81c.8-.78.8-2.07 0-2.86zM5.41 20L4 18.59l7.72-7.72 1.47 1.35L5.41 20z\"/>\n",
              "  </svg>\n",
              "      </button>\n",
              "      \n",
              "  <style>\n",
              "    .colab-df-container {\n",
              "      display:flex;\n",
              "      flex-wrap:wrap;\n",
              "      gap: 12px;\n",
              "    }\n",
              "\n",
              "    .colab-df-convert {\n",
              "      background-color: #E8F0FE;\n",
              "      border: none;\n",
              "      border-radius: 50%;\n",
              "      cursor: pointer;\n",
              "      display: none;\n",
              "      fill: #1967D2;\n",
              "      height: 32px;\n",
              "      padding: 0 0 0 0;\n",
              "      width: 32px;\n",
              "    }\n",
              "\n",
              "    .colab-df-convert:hover {\n",
              "      background-color: #E2EBFA;\n",
              "      box-shadow: 0px 1px 2px rgba(60, 64, 67, 0.3), 0px 1px 3px 1px rgba(60, 64, 67, 0.15);\n",
              "      fill: #174EA6;\n",
              "    }\n",
              "\n",
              "    [theme=dark] .colab-df-convert {\n",
              "      background-color: #3B4455;\n",
              "      fill: #D2E3FC;\n",
              "    }\n",
              "\n",
              "    [theme=dark] .colab-df-convert:hover {\n",
              "      background-color: #434B5C;\n",
              "      box-shadow: 0px 1px 3px 1px rgba(0, 0, 0, 0.15);\n",
              "      filter: drop-shadow(0px 1px 2px rgba(0, 0, 0, 0.3));\n",
              "      fill: #FFFFFF;\n",
              "    }\n",
              "  </style>\n",
              "\n",
              "      <script>\n",
              "        const buttonEl =\n",
              "          document.querySelector('#df-7e6bc3d2-ae02-4c81-83c1-eb94f9faf429 button.colab-df-convert');\n",
              "        buttonEl.style.display =\n",
              "          google.colab.kernel.accessAllowed ? 'block' : 'none';\n",
              "\n",
              "        async function convertToInteractive(key) {\n",
              "          const element = document.querySelector('#df-7e6bc3d2-ae02-4c81-83c1-eb94f9faf429');\n",
              "          const dataTable =\n",
              "            await google.colab.kernel.invokeFunction('convertToInteractive',\n",
              "                                                     [key], {});\n",
              "          if (!dataTable) return;\n",
              "\n",
              "          const docLinkHtml = 'Like what you see? Visit the ' +\n",
              "            '<a target=\"_blank\" href=https://colab.research.google.com/notebooks/data_table.ipynb>data table notebook</a>'\n",
              "            + ' to learn more about interactive tables.';\n",
              "          element.innerHTML = '';\n",
              "          dataTable['output_type'] = 'display_data';\n",
              "          await google.colab.output.renderOutput(dataTable, element);\n",
              "          const docLink = document.createElement('div');\n",
              "          docLink.innerHTML = docLinkHtml;\n",
              "          element.appendChild(docLink);\n",
              "        }\n",
              "      </script>\n",
              "    </div>\n",
              "  </div>\n",
              "  "
            ],
            "text/plain": [
              "                          user  ... unix_timestamp\n",
              "0     619fba11b41bb8a047a1caab  ...      874965758\n",
              "1     619fba11b41bb8a047a1caab  ...      876893171\n",
              "2     619fba11b41bb8a047a1caab  ...      878542960\n",
              "3     619fba11b41bb8a047a1caab  ...      876893119\n",
              "4     619fba11b41bb8a047a1caab  ...      889751712\n",
              "...                        ...  ...            ...\n",
              "2816  61bf8e09e04aa7bf98fd69e5  ...      879669697\n",
              "2817  61bf8e09e04aa7bf98fd69e5  ...      879669746\n",
              "2818  61bf8e09e04aa7bf98fd69e5  ...      879669954\n",
              "2819  61bf8e09e04aa7bf98fd69e5  ...      879669181\n",
              "2820  61bf8e09e04aa7bf98fd69e5  ...      879669547\n",
              "\n",
              "[449 rows x 4 columns]"
            ]
          },
          "execution_count": null,
          "metadata": {},
          "output_type": "execute_result"
        }
      ],
      "source": [
        "ratings.drop()"
      ]
    },
    {
      "cell_type": "code",
      "execution_count": null,
      "metadata": {
        "id": "Pr-pR2M2kee-"
      },
      "outputs": [],
      "source": [
        "ratings_train.to_csv('/content/Recommandation.csv', index=False)"
      ]
    },
    {
      "cell_type": "code",
      "execution_count": null,
      "metadata": {
        "id": "7i_87iTw25WW"
      },
      "outputs": [],
      "source": [
        "ratings_train=pd.read_csv(\"/conte\")"
      ]
    },
    {
      "cell_type": "code",
      "execution_count": null,
      "metadata": {
        "colab": {
          "base_uri": "https://localhost:8080/",
          "height": 86
        },
        "id": "fYw15TUjjP-1",
        "outputId": "6b9354c8-2236-44e2-9d18-9b82ca638b2c"
      },
      "outputs": [
        {
          "data": {
            "text/html": [
              "<pre>Preparing data set.</pre>"
            ],
            "text/plain": [
              "Preparing data set."
            ]
          },
          "metadata": {},
          "output_type": "display_data"
        },
        {
          "data": {
            "text/html": [
              "<pre>    Data has 449 observations with 19 users and 100 items.</pre>"
            ],
            "text/plain": [
              "    Data has 449 observations with 19 users and 100 items."
            ]
          },
          "metadata": {},
          "output_type": "display_data"
        },
        {
          "data": {
            "text/html": [
              "<pre>    Data prepared in: 0.011179s</pre>"
            ],
            "text/plain": [
              "    Data prepared in: 0.011179s"
            ]
          },
          "metadata": {},
          "output_type": "display_data"
        },
        {
          "data": {
            "text/html": [
              "<pre>449 observations to process; with 100 unique items.</pre>"
            ],
            "text/plain": [
              "449 observations to process; with 100 unique items."
            ]
          },
          "metadata": {},
          "output_type": "display_data"
        }
      ],
      "source": [
        "#First we’ll build a model which will recommend movies based on the most popular choices, i.e., a model where all the users receive the same recommendation(s). We will use the turicreate recommender function popularity_recommender for this.\n",
        "train_data = turicreate.SFrame(ratings_train)\n",
        "popularity_model = turicreate.popularity_recommender.create(train_data, user_id='user', item_id='product', target='rating')"
      ]
    },
    {
      "cell_type": "code",
      "execution_count": null,
      "metadata": {
        "colab": {
          "base_uri": "https://localhost:8080/"
        },
        "id": "SnLNLG5xjQBq",
        "outputId": "a6e202e1-35bf-4e58-c1f5-a457a39867e2"
      },
      "outputs": [
        {
          "name": "stdout",
          "output_type": "stream",
          "text": [
            "+--------------------------+--------------------------+-------+------+\n",
            "|           user           |         product          | score | rank |\n",
            "+--------------------------+--------------------------+-------+------+\n",
            "| 61ba7e4de30e004b037482i9 | 61ae0f4165c46dc923ff22a7 |  5.0  |  1   |\n",
            "| 61ba7e4de30e004b037482i9 | 61ae0f4165c46dc923ff229c |  5.0  |  2   |\n",
            "| 61ba7e4de30e004b037482i9 | 61ae0f4165c46dc923ff2280 |  5.0  |  3   |\n",
            "| 61ba7e4de30e004b037482i9 | 61ae0f4165c46dc923ff2276 |  5.0  |  4   |\n",
            "| 61ba7d6ee30e004b03748269 | 61ae0f4165c46dc923ff22a7 |  5.0  |  1   |\n",
            "| 61ba7d6ee30e004b03748269 | 61ae0f4165c46dc923ff229c |  5.0  |  2   |\n",
            "| 61ba7d6ee30e004b03748269 | 61ae0f4165c46dc923ff2280 |  5.0  |  3   |\n",
            "| 61ba7d6ee30e004b03748269 | 61ae0f4165c46dc923ff2276 |  5.0  |  4   |\n",
            "| 61ba7d99e30e004b03748277 | 61ae0f4165c46dc923ff22a7 |  5.0  |  1   |\n",
            "| 61ba7d99e30e004b03748277 | 61ae0f4165c46dc923ff229c |  5.0  |  2   |\n",
            "| 61ba7d99e30e004b03748277 | 61ae0f4165c46dc923ff2280 |  5.0  |  3   |\n",
            "| 61ba7d99e30e004b03748277 | 61ae0f4165c46dc923ff2276 |  5.0  |  4   |\n",
            "+--------------------------+--------------------------+-------+------+\n",
            "[12 rows x 4 columns]\n",
            "\n"
          ]
        }
      ],
      "source": [
        "#We will recommend the top 5 items for the first 5 users in our dataset.\n",
        "popularity_recomm = popularity_model.recommend(users=['61ba7e4de30e004b037482i9','61ba7d6ee30e004b03748269','61ba7d99e30e004b03748277'],k=4)\n",
        "popularity_recomm.print_rows(num_rows=200)"
      ]
    },
    {
      "cell_type": "code",
      "execution_count": null,
      "metadata": {
        "colab": {
          "base_uri": "https://localhost:8080/",
          "height": 382
        },
        "id": "SWpTOORO_oza",
        "outputId": "5d196cc2-7355-497a-b9b8-fc9d597b3fc3"
      },
      "outputs": [
        {
          "data": {
            "text/html": [
              "<pre>Preparing data set.</pre>"
            ],
            "text/plain": [
              "Preparing data set."
            ]
          },
          "metadata": {},
          "output_type": "display_data"
        },
        {
          "data": {
            "text/html": [
              "<pre>    Data has 449 observations with 19 users and 100 items.</pre>"
            ],
            "text/plain": [
              "    Data has 449 observations with 19 users and 100 items."
            ]
          },
          "metadata": {},
          "output_type": "display_data"
        },
        {
          "data": {
            "text/html": [
              "<pre>    Data prepared in: 0.016802s</pre>"
            ],
            "text/plain": [
              "    Data prepared in: 0.016802s"
            ]
          },
          "metadata": {},
          "output_type": "display_data"
        },
        {
          "data": {
            "text/html": [
              "<pre>Training model from provided data.</pre>"
            ],
            "text/plain": [
              "Training model from provided data."
            ]
          },
          "metadata": {},
          "output_type": "display_data"
        },
        {
          "data": {
            "text/html": [
              "<pre>Gathering per-item and per-user statistics.</pre>"
            ],
            "text/plain": [
              "Gathering per-item and per-user statistics."
            ]
          },
          "metadata": {},
          "output_type": "display_data"
        },
        {
          "data": {
            "text/html": [
              "<pre>+--------------------------------+------------+</pre>"
            ],
            "text/plain": [
              "+--------------------------------+------------+"
            ]
          },
          "metadata": {},
          "output_type": "display_data"
        },
        {
          "data": {
            "text/html": [
              "<pre>| Elapsed Time (Item Statistics) | % Complete |</pre>"
            ],
            "text/plain": [
              "| Elapsed Time (Item Statistics) | % Complete |"
            ]
          },
          "metadata": {},
          "output_type": "display_data"
        },
        {
          "data": {
            "text/html": [
              "<pre>+--------------------------------+------------+</pre>"
            ],
            "text/plain": [
              "+--------------------------------+------------+"
            ]
          },
          "metadata": {},
          "output_type": "display_data"
        },
        {
          "data": {
            "text/html": [
              "<pre>| 2.712ms                        | 100        |</pre>"
            ],
            "text/plain": [
              "| 2.712ms                        | 100        |"
            ]
          },
          "metadata": {},
          "output_type": "display_data"
        },
        {
          "data": {
            "text/html": [
              "<pre>+--------------------------------+------------+</pre>"
            ],
            "text/plain": [
              "+--------------------------------+------------+"
            ]
          },
          "metadata": {},
          "output_type": "display_data"
        },
        {
          "data": {
            "text/html": [
              "<pre>Setting up lookup tables.</pre>"
            ],
            "text/plain": [
              "Setting up lookup tables."
            ]
          },
          "metadata": {},
          "output_type": "display_data"
        },
        {
          "data": {
            "text/html": [
              "<pre>Processing data in one pass using dense lookup tables.</pre>"
            ],
            "text/plain": [
              "Processing data in one pass using dense lookup tables."
            ]
          },
          "metadata": {},
          "output_type": "display_data"
        },
        {
          "data": {
            "text/html": [
              "<pre>+-------------------------------------+------------------+-----------------+</pre>"
            ],
            "text/plain": [
              "+-------------------------------------+------------------+-----------------+"
            ]
          },
          "metadata": {},
          "output_type": "display_data"
        },
        {
          "data": {
            "text/html": [
              "<pre>| Elapsed Time (Constructing Lookups) | Total % Complete | Items Processed |</pre>"
            ],
            "text/plain": [
              "| Elapsed Time (Constructing Lookups) | Total % Complete | Items Processed |"
            ]
          },
          "metadata": {},
          "output_type": "display_data"
        },
        {
          "data": {
            "text/html": [
              "<pre>+-------------------------------------+------------------+-----------------+</pre>"
            ],
            "text/plain": [
              "+-------------------------------------+------------------+-----------------+"
            ]
          },
          "metadata": {},
          "output_type": "display_data"
        },
        {
          "data": {
            "text/html": [
              "<pre>| 6.931ms                             | 42.5             | 42              |</pre>"
            ],
            "text/plain": [
              "| 6.931ms                             | 42.5             | 42              |"
            ]
          },
          "metadata": {},
          "output_type": "display_data"
        },
        {
          "data": {
            "text/html": [
              "<pre>| 8.243ms                             | 100              | 100             |</pre>"
            ],
            "text/plain": [
              "| 8.243ms                             | 100              | 100             |"
            ]
          },
          "metadata": {},
          "output_type": "display_data"
        },
        {
          "data": {
            "text/html": [
              "<pre>+-------------------------------------+------------------+-----------------+</pre>"
            ],
            "text/plain": [
              "+-------------------------------------+------------------+-----------------+"
            ]
          },
          "metadata": {},
          "output_type": "display_data"
        },
        {
          "data": {
            "text/html": [
              "<pre>Finalizing lookup tables.</pre>"
            ],
            "text/plain": [
              "Finalizing lookup tables."
            ]
          },
          "metadata": {},
          "output_type": "display_data"
        },
        {
          "data": {
            "text/html": [
              "<pre>Generating candidate set for working with new users.</pre>"
            ],
            "text/plain": [
              "Generating candidate set for working with new users."
            ]
          },
          "metadata": {},
          "output_type": "display_data"
        },
        {
          "data": {
            "text/html": [
              "<pre>Finished training in 0.015899s</pre>"
            ],
            "text/plain": [
              "Finished training in 0.015899s"
            ]
          },
          "metadata": {},
          "output_type": "display_data"
        }
      ],
      "source": [
        "#After building a popularity model, we will now build a collaborative filtering model\n",
        "# Let’s train the item similarity model and make top 5 recommendations for the first 5 users\n",
        "#Training the model\n",
        "item_sim_model = turicreate.item_similarity_recommender.create(train_data, user_id='user', item_id='product', target='rating', similarity_type='cosine')"
      ]
    },
    {
      "cell_type": "code",
      "execution_count": null,
      "metadata": {
        "colab": {
          "base_uri": "https://localhost:8080/"
        },
        "id": "DFoVm86X_sZP",
        "outputId": "b351eaae-7c9c-4572-b3cc-c49df0cfd4de"
      },
      "outputs": [
        {
          "name": "stdout",
          "output_type": "stream",
          "text": [
            "+--------------------------+--------------------------+--------------------+------+\n",
            "|           user           |         product          |       score        | rank |\n",
            "+--------------------------+--------------------------+--------------------+------+\n",
            "| 61ba7d6ee30e004b03748269 | 61ae0f4165c46dc923ff22a8 | 2.8224687576293945 |  1   |\n",
            "| 61ba7d6ee30e004b03748269 | 61ae0f4165c46dc923ff2297 | 2.7142856121063232 |  2   |\n",
            "| 61ba7d6ee30e004b03748269 | 61ae0f4165c46dc923ff22b5 | 2.6945323944091797 |  3   |\n",
            "| 61ba7d6ee30e004b03748269 | 61ae0f4165c46dc923ff228f | 2.654017686843872  |  4   |\n",
            "+--------------------------+--------------------------+--------------------+------+\n",
            "[4 rows x 4 columns]\n",
            "\n"
          ]
        }
      ],
      "source": [
        "#Making recommendations\n",
        "x='61ba7d6ee30e004b03748269'\n",
        "item_sim_recomm = item_sim_model.recommend(users=[x],k=4)\n",
        "item_sim_recomm.print_rows(num_rows=25)"
      ]
    }
  ],
  "metadata": {
    "colab": {
      "collapsed_sections": [],
      "name": "recommendation_system.ipynb",
      "provenance": []
    },
    "kernelspec": {
      "display_name": "Python 3",
      "name": "python3"
    },
    "language_info": {
      "name": "python"
    }
  },
  "nbformat": 4,
  "nbformat_minor": 0
}